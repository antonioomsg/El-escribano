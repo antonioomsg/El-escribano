{
 "cells": [
  {
   "cell_type": "code",
   "execution_count": 18,
   "metadata": {},
   "outputs": [],
   "source": [
    "from Fun_to_prepare_data import * \n",
    "from sklearn.model_selection import train_test_split\n",
    "from __future__ import print_function\n",
    "import keras\n",
    "from keras.datasets import mnist\n",
    "from keras.models import Sequential\n",
    "from keras.layers import Dense, Dropout, Flatten\n",
    "from keras.layers import Conv2D, MaxPooling2D\n",
    "from keras import backend as K\n",
    "import pandas as pd\n",
    "import numpy as np\n",
    "from keras.optimizers import SGD\n",
    "from keras.preprocessing.image import ImageDataGenerator\n",
    "from keras.layers import Activation, Dropout, Flatten, Dense\n",
    "import tensorflow as tf"
   ]
  },
  {
   "cell_type": "code",
   "execution_count": 19,
   "metadata": {},
   "outputs": [],
   "source": [
    "paths={1:\"../imputs/oranges_dataset/oranges_pictures/\",\n",
    "      0:\"../imputs/oranges_dataset/random_pictures/\"}\n",
    "images={}\n",
    "for clas,path in paths.items():\n",
    "    images[clas]=[]\n",
    "    for im in listdir(path):\n",
    "        if im.endswith(\"jpg\") or im.endswith(\"png\"):\n",
    "            a=resize_image(path+im,(64,64))\n",
    "            images[clas].append(np.asarray(a))\n",
    "    images[clas]=np.array(images[clas])"
   ]
  },
  {
   "cell_type": "code",
   "execution_count": 3,
   "metadata": {},
   "outputs": [],
   "source": [
    "X= np.concatenate(list(images.values()),axis=0)"
   ]
  },
  {
   "cell_type": "code",
   "execution_count": 4,
   "metadata": {},
   "outputs": [],
   "source": [
    "y = np.concatenate([[k]* v.shape[0] for k,v in images.items()])"
   ]
  },
  {
   "cell_type": "code",
   "execution_count": 5,
   "metadata": {},
   "outputs": [],
   "source": [
    "X_train, X_test, y_train, y_test = train_test_split(X, y, test_size=0.2)"
   ]
  },
  {
   "cell_type": "code",
   "execution_count": 6,
   "metadata": {},
   "outputs": [
    {
     "name": "stdout",
     "output_type": "stream",
     "text": [
      "x_train shape: (750, 64, 64, 3)\n",
      "750 train samples\n",
      "188 test samples\n"
     ]
    }
   ],
   "source": [
    "img_width, img_height = 64, 64\n",
    "img_rows, img_cols = 64, 64\n",
    "\n",
    "# Prepare data to feed the NN\n",
    "num_classes = 2\n",
    "\n",
    "# Ask keras which format to use depending on used backend and arrange data as expected\n",
    "if K.image_data_format() == 'channels_first':\n",
    "    X_train = x_train.reshape(X_train.shape[0], 3, img_rows, img_cols)\n",
    "    X_test = x_test.reshape(X_test.shape[0], 3, img_rows, img_cols)\n",
    "    input_shape = (3, img_width, img_height)\n",
    "else:\n",
    "    X_train = X_train.reshape(X_train.shape[0], img_rows, img_cols, 3)\n",
    "    X_test = X_test.reshape(X_test.shape[0], img_rows, img_cols, 3)\n",
    "    input_shape = (img_width, img_height, 3)\n",
    "\n",
    "# Incoming data is in uint8. Cast the input data images to be floats in range [0.0-1.0]  \n",
    "X_train = tf.keras.utils.normalize(X_train,axis=1)\n",
    "X_test = tf.keras.utils.normalize(X_test,axis=1)\n",
    "#X_train = X_train.astype('float32') / 255\n",
    "#X_test = X_test.astype('float32') / 255\n",
    "\n",
    "print('x_train shape:', X_train.shape)\n",
    "print(X_train.shape[0], 'train samples')\n",
    "print(X_test.shape[0], 'test samples')"
   ]
  },
  {
   "cell_type": "code",
   "execution_count": 7,
   "metadata": {},
   "outputs": [],
   "source": [
    "img_width, img_height = 64, 64\n",
    "\n",
    "model = Sequential()\n",
    "model.add(Conv2D(32, (3, 3), input_shape=input_shape))\n",
    "model.add(Activation('relu'))\n",
    "model.add(MaxPooling2D(pool_size=(2, 2)))\n",
    "#model.add(tf.keras.layers.Flatten())\n",
    "\n",
    "model.add(Conv2D(32, (3, 3)))\n",
    "model.add(Activation('relu'))\n",
    "model.add(MaxPooling2D(pool_size=(2, 2)))\n",
    "\n",
    "model.add(Conv2D(64, (3, 3)))\n",
    "model.add(Activation('relu'))\n",
    "model.add(MaxPooling2D(pool_size=(2, 2)))\n",
    "\n",
    "model.add(Flatten())\n",
    "model.add(Dense(64))\n",
    "model.add(Activation('relu'))\n",
    "model.add(Dropout(0.5))\n",
    "model.add(Dense(1))\n",
    "model.add(Activation('sigmoid'))\n",
    "\n",
    "model.compile(loss='binary_crossentropy',\n",
    "              optimizer='rmsprop',\n",
    "              metrics=['accuracy'])"
   ]
  },
  {
   "cell_type": "code",
   "execution_count": 8,
   "metadata": {},
   "outputs": [
    {
     "name": "stdout",
     "output_type": "stream",
     "text": [
      "Epoch 1/20\n",
      "8/8 [==============================] - 3s 374ms/step - loss: 0.6779 - accuracy: 0.5760 - val_loss: 0.6437 - val_accuracy: 0.5691\n",
      "Epoch 2/20\n",
      "8/8 [==============================] - 3s 346ms/step - loss: 0.5926 - accuracy: 0.6827 - val_loss: 0.5021 - val_accuracy: 0.8032\n",
      "Epoch 3/20\n",
      "8/8 [==============================] - 3s 353ms/step - loss: 0.4749 - accuracy: 0.7787 - val_loss: 0.4089 - val_accuracy: 0.8404\n",
      "Epoch 4/20\n",
      "8/8 [==============================] - 3s 342ms/step - loss: 0.4206 - accuracy: 0.8173 - val_loss: 0.4452 - val_accuracy: 0.8245\n",
      "Epoch 5/20\n",
      "8/8 [==============================] - 3s 344ms/step - loss: 0.3767 - accuracy: 0.8427 - val_loss: 0.3635 - val_accuracy: 0.8511\n",
      "Epoch 6/20\n",
      "8/8 [==============================] - 3s 347ms/step - loss: 0.3741 - accuracy: 0.8493 - val_loss: 0.3610 - val_accuracy: 0.8457\n",
      "Epoch 7/20\n",
      "8/8 [==============================] - 3s 346ms/step - loss: 0.3438 - accuracy: 0.8613 - val_loss: 0.3486 - val_accuracy: 0.8457\n",
      "Epoch 8/20\n",
      "8/8 [==============================] - 3s 346ms/step - loss: 0.3127 - accuracy: 0.8773 - val_loss: 0.3798 - val_accuracy: 0.8670\n",
      "Epoch 9/20\n",
      "8/8 [==============================] - 3s 379ms/step - loss: 0.3831 - accuracy: 0.8427 - val_loss: 0.3409 - val_accuracy: 0.8457\n",
      "Epoch 10/20\n",
      "8/8 [==============================] - 3s 360ms/step - loss: 0.3215 - accuracy: 0.8587 - val_loss: 0.3286 - val_accuracy: 0.8511\n",
      "Epoch 11/20\n",
      "8/8 [==============================] - 3s 341ms/step - loss: 0.3233 - accuracy: 0.8747 - val_loss: 0.3586 - val_accuracy: 0.8670\n",
      "Epoch 12/20\n",
      "8/8 [==============================] - 3s 340ms/step - loss: 0.3163 - accuracy: 0.8707 - val_loss: 0.3723 - val_accuracy: 0.8457\n",
      "Epoch 13/20\n",
      "8/8 [==============================] - 3s 349ms/step - loss: 0.3497 - accuracy: 0.8413 - val_loss: 0.3690 - val_accuracy: 0.8564\n",
      "Epoch 14/20\n",
      "8/8 [==============================] - 3s 347ms/step - loss: 0.2729 - accuracy: 0.8893 - val_loss: 0.4357 - val_accuracy: 0.8511\n",
      "Epoch 15/20\n",
      "8/8 [==============================] - 3s 379ms/step - loss: 0.2857 - accuracy: 0.8920 - val_loss: 0.3919 - val_accuracy: 0.8511\n",
      "Epoch 16/20\n",
      "8/8 [==============================] - 3s 360ms/step - loss: 0.2725 - accuracy: 0.8893 - val_loss: 0.3778 - val_accuracy: 0.8511\n",
      "Epoch 17/20\n",
      "8/8 [==============================] - 3s 337ms/step - loss: 0.3024 - accuracy: 0.8720 - val_loss: 0.3241 - val_accuracy: 0.8245\n",
      "Epoch 18/20\n",
      "8/8 [==============================] - 3s 344ms/step - loss: 0.2656 - accuracy: 0.9013 - val_loss: 0.5252 - val_accuracy: 0.7713\n",
      "Epoch 19/20\n",
      "8/8 [==============================] - 3s 346ms/step - loss: 0.2813 - accuracy: 0.8813 - val_loss: 0.4601 - val_accuracy: 0.7872\n",
      "Epoch 20/20\n",
      "8/8 [==============================] - 3s 347ms/step - loss: 0.3232 - accuracy: 0.8707 - val_loss: 0.4083 - val_accuracy: 0.8457\n"
     ]
    },
    {
     "data": {
      "text/plain": [
       "<tensorflow.python.keras.callbacks.History at 0x7febe695e850>"
      ]
     },
     "execution_count": 8,
     "metadata": {},
     "output_type": "execute_result"
    }
   ],
   "source": [
    "batch_size = 100\n",
    "epochs = 20\n",
    "\n",
    "model.fit(X_train, y_train,\n",
    "          batch_size=batch_size,\n",
    "          epochs=epochs,\n",
    "          verbose=1,\n",
    "          validation_data=(X_test, y_test))"
   ]
  },
  {
   "cell_type": "code",
   "execution_count": 9,
   "metadata": {},
   "outputs": [
    {
     "name": "stdout",
     "output_type": "stream",
     "text": [
      "Test loss: 0.40828168392181396\n",
      "Test accuracy: 0.8457446694374084\n"
     ]
    }
   ],
   "source": [
    "# Evaluate the model with test data\n",
    "score = model.evaluate(X_test, y_test, verbose=0)\n",
    "print('Test loss:', score[0])\n",
    "print('Test accuracy:', score[1])"
   ]
  },
  {
   "cell_type": "code",
   "execution_count": 15,
   "metadata": {},
   "outputs": [
    {
     "name": "stdout",
     "output_type": "stream",
     "text": [
      "La probabilidad de que sea una naranja es de 0.02837594971060753 el 2% restante es una pajita! \n"
     ]
    },
    {
     "data": {
      "text/plain": [
       "<matplotlib.image.AxesImage at 0x7febb72894c0>"
      ]
     },
     "execution_count": 15,
     "metadata": {},
     "output_type": "execute_result"
    },
    {
     "data": {
      "image/png": "[encoded data removed]",
      "text/plain": [
       "<Figure size 432x288 with 1 Axes>"
      ]
     },
     "metadata": {
      "needs_background": "light"
     },
     "output_type": "display_data"
    }
   ],
   "source": [
    "%matplotlib inline\n",
    "import matplotlib.pyplot as plt\n",
    "from PIL import Image\n",
    "\n",
    "img = X_test[184]\n",
    "pred = model.predict(np.expand_dims(img,axis=0))[0]\n",
    "print(f\"La probabilidad de que sea una naranja es de {pred[0]} el 2% restante es una pajita! \")\n",
    "#print(\"Probs -> Cat:{0:.5f} Dog:{1:.5f}\".format(pred[0],pred[1]))\n",
    "plt.imshow(X[184])"
   ]
  },
  {
   "cell_type": "code",
   "execution_count": null,
   "metadata": {},
   "outputs": [],
   "source": []
  }
 ],
 "metadata": {
  "kernelspec": {
   "display_name": "Python 3",
   "language": "python",
   "name": "python3"
  },
  "language_info": {
   "codemirror_mode": {
    "name": "ipython",
    "version": 3
   },
   "file_extension": ".py",
   "mimetype": "text/x-python",
   "name": "python",
   "nbconvert_exporter": "python",
   "pygments_lexer": "ipython3",
   "version": "3.8.2"
  }
 },
 "nbformat": 4,
 "nbformat_minor": 4
}
