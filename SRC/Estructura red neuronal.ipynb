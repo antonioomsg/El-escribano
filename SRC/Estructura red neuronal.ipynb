{
 "cells": [
  {
   "cell_type": "code",
   "execution_count": 161,
   "metadata": {},
   "outputs": [],
   "source": [
    "from Fun_to_prepare_data import * \n",
    "from sklearn.model_selection import train_test_split\n",
    "from __future__ import print_function\n",
    "import keras\n",
    "from keras.datasets import mnist\n",
    "from keras.models import Sequential\n",
    "from keras.layers import Dense, Dropout, Flatten\n",
    "from keras.layers import Conv2D, MaxPooling2D\n",
    "from keras import backend as K\n",
    "import pandas as pd\n",
    "import numpy as np\n",
    "from keras.optimizers import SGD\n",
    "from keras.preprocessing.image import ImageDataGenerator\n",
    "from keras.layers import Activation, Dropout, Flatten, Dense\n",
    "import tensorflow as tf\n",
    "from tensorflow.keras.callbacks import TensorBoard\n",
    "import time\n",
    "from tensorboard.plugins.hparams import api as hp"
   ]
  },
  {
   "cell_type": "code",
   "execution_count": 162,
   "metadata": {},
   "outputs": [],
   "source": [
    "paths={1:\"../imputs/oranges_dataset/oranges_pictures/\",\n",
    "      0:\"../imputs/oranges_dataset/random_pictures/\"}\n",
    "images={}\n",
    "for clas,path in paths.items():\n",
    "    images[clas]=[]\n",
    "    for im in listdir(path):\n",
    "        if im.endswith(\"jpg\") or im.endswith(\"png\"):\n",
    "            a=resize_image(path+im,(64,64))\n",
    "            images[clas].append(np.asarray(a))\n",
    "    images[clas]=np.array(images[clas])"
   ]
  },
  {
   "cell_type": "code",
   "execution_count": 163,
   "metadata": {},
   "outputs": [],
   "source": [
    "X= np.concatenate(list(images.values()),axis=0)"
   ]
  },
  {
   "cell_type": "code",
   "execution_count": 164,
   "metadata": {},
   "outputs": [],
   "source": [
    "y = np.concatenate([[k]* v.shape[0] for k,v in images.items()])"
   ]
  },
  {
   "cell_type": "code",
   "execution_count": 165,
   "metadata": {},
   "outputs": [],
   "source": [
    "X_train, X_test, y_train, y_test = train_test_split(X, y, test_size=0.0001, random_state=42)\n",
    "\n"
   ]
  },
  {
   "cell_type": "code",
   "execution_count": 166,
   "metadata": {},
   "outputs": [],
   "source": [
    "name = \"Oranges_model_sigmoid_2-{}\".format(int(time.time()))"
   ]
  },
  {
   "cell_type": "code",
   "execution_count": 167,
   "metadata": {},
   "outputs": [],
   "source": [
    "Tensorboard =TensorBoard(log_dir=\"logs/{}\".format(name)) "
   ]
  },
  {
   "cell_type": "code",
   "execution_count": 168,
   "metadata": {
    "scrolled": true
   },
   "outputs": [
    {
     "name": "stdout",
     "output_type": "stream",
     "text": [
      "x_train shape: (1447, 64, 64, 3)\n",
      "1447 train samples\n",
      "1 test samples\n"
     ]
    }
   ],
   "source": [
    "img_width, img_height = 64, 64\n",
    "img_rows, img_cols = 64, 64\n",
    "\n",
    "# Prepare data to feed the NN\n",
    "num_classes = 2\n",
    "\n",
    "# Ask keras which format to use depending on used backend and arrange data as expected\n",
    "if K.image_data_format() == 'channels_first':\n",
    "    X_train = x_train.reshape(X_train.shape[0], 3, img_rows, img_cols)\n",
    "    X_test = x_test.reshape(X_test.shape[0], 3, img_rows, img_cols)\n",
    "    input_shape = (3, img_width, img_height)\n",
    "else:\n",
    "    X_train = X_train.reshape(X_train.shape[0], img_rows, img_cols, 3)\n",
    "    X_test = X_test.reshape(X_test.shape[0], img_rows, img_cols, 3)\n",
    "    input_shape = (img_width, img_height, 3)\n",
    "\n",
    "# Incoming data is in uint8. Cast the input data images to be floats in range [0.0-1.0]  \n",
    "#X_train = tf.keras.utils.normalize(X_train,axis=3)\n",
    "#X_test = tf.keras.utils.normalize(X_test,axis=3)\n",
    "X_train = X_train.astype('float32') / 255\n",
    "X_test = X_test.astype('float32') / 255\n",
    "\n",
    "print('x_train shape:', X_train.shape)\n",
    "print(X_train.shape[0], 'train samples')\n",
    "print(X_test.shape[0], 'test samples')"
   ]
  },
  {
   "cell_type": "code",
   "execution_count": 169,
   "metadata": {},
   "outputs": [],
   "source": [
    "img_width, img_height = 64, 64\n",
    "\n",
    "model = Sequential()\n",
    "model.add(Conv2D(32, (3, 3), input_shape=input_shape))\n",
    "model.add(Activation('relu'))\n",
    "model.add(MaxPooling2D(pool_size=(2, 2)))\n",
    "#model.add(tf.keras.layers.Flatten())\n",
    "\n",
    "model.add(Conv2D(32, (3, 3)))\n",
    "model.add(Activation('relu'))\n",
    "model.add(MaxPooling2D(pool_size=(2, 2)))\n",
    "\n",
    "model.add(Conv2D(64, (3, 3)))\n",
    "model.add(Activation('relu'))\n",
    "model.add(MaxPooling2D(pool_size=(2, 2)))\n",
    "\n",
    "model.add(Flatten())\n",
    "model.add(Dense(64))\n",
    "model.add(Activation('relu'))\n",
    "model.add(Dropout(0.5))\n",
    "#model.add(Dropout(0.9))\n",
    "model.add(Dense(1))\n",
    "model.add(Activation('sigmoid'))\n",
    "#model.add(Dense(2))\n",
    "#model.add(Activation('relu'))\n",
    "\n",
    "\n",
    "\n",
    "\n",
    "model.compile(loss='binary_crossentropy',\n",
    "              #optimizer='rmsprop',\n",
    "              optimizer='adam',\n",
    "              metrics=['accuracy'])\n",
    "batch_size = 20\n",
    "epochs = 25"
   ]
  },
  {
   "cell_type": "code",
   "execution_count": 170,
   "metadata": {},
   "outputs": [
    {
     "name": "stdout",
     "output_type": "stream",
     "text": [
      "Epoch 1/25\n",
      "73/73 [==============================] - 8s 105ms/step - loss: 0.3197 - accuracy: 0.8763 - val_loss: 0.6275 - val_accuracy: 1.0000\n",
      "Epoch 2/25\n",
      "73/73 [==============================] - 7s 94ms/step - loss: 0.2428 - accuracy: 0.9102 - val_loss: 0.4404 - val_accuracy: 1.0000\n",
      "Epoch 3/25\n",
      "73/73 [==============================] - 7s 93ms/step - loss: 0.2349 - accuracy: 0.9178 - val_loss: 0.0944 - val_accuracy: 1.0000\n",
      "Epoch 4/25\n",
      "73/73 [==============================] - 7s 93ms/step - loss: 0.2092 - accuracy: 0.9240 - val_loss: 0.1711 - val_accuracy: 1.0000\n",
      "Epoch 5/25\n",
      "73/73 [==============================] - 7s 93ms/step - loss: 0.1969 - accuracy: 0.9295 - val_loss: 0.1145 - val_accuracy: 1.0000\n",
      "Epoch 6/25\n",
      "73/73 [==============================] - 7s 95ms/step - loss: 0.1884 - accuracy: 0.9357 - val_loss: 0.2784 - val_accuracy: 1.0000\n",
      "Epoch 7/25\n",
      "73/73 [==============================] - 7s 93ms/step - loss: 0.1833 - accuracy: 0.9357 - val_loss: 0.1376 - val_accuracy: 1.0000\n",
      "Epoch 8/25\n",
      "73/73 [==============================] - 7s 91ms/step - loss: 0.1632 - accuracy: 0.9419 - val_loss: 0.1669 - val_accuracy: 1.0000\n",
      "Epoch 9/25\n",
      "73/73 [==============================] - 7s 91ms/step - loss: 0.1479 - accuracy: 0.9516 - val_loss: 0.4256 - val_accuracy: 1.0000\n",
      "Epoch 10/25\n",
      "73/73 [==============================] - 7s 93ms/step - loss: 0.1535 - accuracy: 0.9482 - val_loss: 0.1595 - val_accuracy: 1.0000\n",
      "Epoch 11/25\n",
      "73/73 [==============================] - 7s 97ms/step - loss: 0.1436 - accuracy: 0.9565 - val_loss: 0.0771 - val_accuracy: 1.0000\n",
      "Epoch 12/25\n",
      "73/73 [==============================] - 7s 95ms/step - loss: 0.1322 - accuracy: 0.9537 - val_loss: 0.2148 - val_accuracy: 1.0000\n",
      "Epoch 13/25\n",
      "73/73 [==============================] - 7s 97ms/step - loss: 0.1258 - accuracy: 0.9523 - val_loss: 0.6721 - val_accuracy: 1.0000\n",
      "Epoch 14/25\n",
      "73/73 [==============================] - 7s 98ms/step - loss: 0.1255 - accuracy: 0.9592 - val_loss: 0.1443 - val_accuracy: 1.0000\n",
      "Epoch 15/25\n",
      "73/73 [==============================] - 7s 97ms/step - loss: 0.1147 - accuracy: 0.9585 - val_loss: 0.3131 - val_accuracy: 1.0000\n",
      "Epoch 16/25\n",
      "73/73 [==============================] - 7s 102ms/step - loss: 0.1145 - accuracy: 0.9613 - val_loss: 0.6012 - val_accuracy: 1.0000\n",
      "Epoch 17/25\n",
      "73/73 [==============================] - 8s 108ms/step - loss: 0.0803 - accuracy: 0.9730 - val_loss: 0.2362 - val_accuracy: 1.0000\n",
      "Epoch 18/25\n",
      "73/73 [==============================] - 7s 97ms/step - loss: 0.0979 - accuracy: 0.9599 - val_loss: 0.2410 - val_accuracy: 1.0000\n",
      "Epoch 19/25\n",
      "73/73 [==============================] - 7s 98ms/step - loss: 0.0897 - accuracy: 0.9682 - val_loss: 0.0940 - val_accuracy: 1.0000\n",
      "Epoch 20/25\n",
      "73/73 [==============================] - 8s 111ms/step - loss: 0.0683 - accuracy: 0.9800 - val_loss: 0.0308 - val_accuracy: 1.0000\n",
      "Epoch 21/25\n",
      "73/73 [==============================] - 7s 96ms/step - loss: 0.0613 - accuracy: 0.9765 - val_loss: 0.1680 - val_accuracy: 1.0000\n",
      "Epoch 22/25\n",
      "73/73 [==============================] - 8s 104ms/step - loss: 0.0510 - accuracy: 0.9841 - val_loss: 0.0753 - val_accuracy: 1.0000\n",
      "Epoch 23/25\n",
      "73/73 [==============================] - 7s 98ms/step - loss: 0.0450 - accuracy: 0.9827 - val_loss: 0.2800 - val_accuracy: 1.0000\n",
      "Epoch 24/25\n",
      "73/73 [==============================] - 7s 98ms/step - loss: 0.0399 - accuracy: 0.9848 - val_loss: 0.0160 - val_accuracy: 1.0000\n",
      "Epoch 25/25\n",
      "73/73 [==============================] - 7s 101ms/step - loss: 0.0325 - accuracy: 0.9910 - val_loss: 0.0571 - val_accuracy: 1.0000\n"
     ]
    }
   ],
   "source": [
    "predictions = model.fit(X_train, y_train,\n",
    "          batch_size=batch_size,\n",
    "          epochs=epochs,\n",
    "          verbose=1 ,\n",
    "          validation_data=(X_test, y_test),\n",
    "          callbacks=[Tensorboard])"
   ]
  },
  {
   "cell_type": "code",
   "execution_count": 171,
   "metadata": {},
   "outputs": [
    {
     "name": "stdout",
     "output_type": "stream",
     "text": [
      "Test loss: 0.05705799162387848\n",
      "Test accuracy: 1.0\n"
     ]
    }
   ],
   "source": [
    "# Evaluate the model with test data\n",
    "score = model.evaluate(X_test, y_test, verbose=0)\n",
    "print('Test loss:', score[0])\n",
    "print('Test accuracy:', score[1])"
   ]
  },
  {
   "cell_type": "markdown",
   "metadata": {},
   "source": [
    "predictions = model.fit(X, y,\n",
    "          batch_size=batch_size,\n",
    "          epochs=epochs,\n",
    "          verbose=1 ,\n",
    "          validation_data=(X_test, y_test),\n",
    "          callbacks=[Tensorboard])"
   ]
  },
  {
   "cell_type": "code",
   "execution_count": 172,
   "metadata": {},
   "outputs": [],
   "source": [
    "model.save_weights('../weights/model_weights_more_troncos')"
   ]
  },
  {
   "cell_type": "code",
   "execution_count": 173,
   "metadata": {},
   "outputs": [
    {
     "name": "stdout",
     "output_type": "stream",
     "text": [
      "INFO:tensorflow:Assets written to: ../weights/model_full_more_troncos/assets\n"
     ]
    }
   ],
   "source": [
    "model.save('../weights/model_full_more_troncos')"
   ]
  },
  {
   "cell_type": "code",
   "execution_count": 14,
   "metadata": {
    "scrolled": true
   },
   "outputs": [
    {
     "name": "stdout",
     "output_type": "stream",
     "text": [
      "La probabilidad de que sea una naranja es de 0.9969189167022705\n"
     ]
    },
    {
     "data": {
      "text/plain": [
       "<matplotlib.image.AxesImage at 0x7fde104dc400>"
      ]
     },
     "execution_count": 14,
     "metadata": {},
     "output_type": "execute_result"
    },
    {
     "data": {
      "image/png": "[encoded data removed]",
      "text/plain": [
       "<Figure size 432x288 with 1 Axes>"
      ]
     },
     "metadata": {
      "needs_background": "light"
     },
     "output_type": "display_data"
    }
   ],
   "source": [
    "%matplotlib inline\n",
    "import matplotlib.pyplot as plt\n",
    "from PIL import Image\n",
    "\n",
    "img = X_test[13]\n",
    "pred = model.predict(np.expand_dims(img,axis=0))[0]\n",
    "print(f\"La probabilidad de que sea una naranja es de {pred[0]}\")\n",
    "#print(\"Probs -> Cat:{0:.5f} Dog:{1:.5f}\".format(pred[0],pred[1]))\n",
    "plt.imshow(X_test[13])"
   ]
  },
  {
   "cell_type": "code",
   "execution_count": 15,
   "metadata": {},
   "outputs": [],
   "source": [
    "import matplotlib.pyplot as plt\n",
    "import matplotlib.image as mpimg"
   ]
  },
  {
   "cell_type": "code",
   "execution_count": 16,
   "metadata": {},
   "outputs": [
    {
     "data": {
      "text/plain": [
       "<matplotlib.image.AxesImage at 0x7fde299cabb0>"
      ]
     },
     "execution_count": 16,
     "metadata": {},
     "output_type": "execute_result"
    },
    {
     "data": {
      "image/png": "[encoded data removed]",
      "text/plain": [
       "<Figure size 432x288 with 1 Axes>"
      ]
     },
     "metadata": {
      "needs_background": "light"
     },
     "output_type": "display_data"
    }
   ],
   "source": [
    "plt.imshow(X_test[4])"
   ]
  },
  {
   "cell_type": "markdown",
   "metadata": {},
   "source": [
    "# tensorboard --logdir logs/\n"
   ]
  },
  {
   "cell_type": "code",
   "execution_count": 17,
   "metadata": {},
   "outputs": [],
   "source": [
    "def inputs(imagen):\n",
    "    a=resize_image(imagen,(64,64))\n",
    "    a=np.asarray(a)\n",
    "    a= a.astype('float32') / 255\n",
    "    return a"
   ]
  },
  {
   "cell_type": "code",
   "execution_count": null,
   "metadata": {},
   "outputs": [],
   "source": [
    "%matplotlib inline\n",
    "import matplotlib.pyplot as plt\n",
    "from PIL import Image\n",
    "\n",
    "img = a\n",
    "pred = model.predict(np.expand_dims(img,axis=0))[0]\n",
    "print(f\"La probabilidad de que sea una naranja es de {pred[0]}\")\n",
    "plt.imshow(a)"
   ]
  },
  {
   "cell_type": "code",
   "execution_count": null,
   "metadata": {},
   "outputs": [],
   "source": [
    "def sliding_window(image,w_shape,stepSize):\n",
    "    w_width, w_height = w_shape # window size\n",
    "    for x in range(0, image.shape[1] - w_width , stepSize):\n",
    "        for y in range(0, image.shape[0] - w_height, stepSize):\n",
    "            window = image[x:x + w_width, y:y + w_height, :]\n",
    "            yield window"
   ]
  },
  {
   "cell_type": "code",
   "execution_count": null,
   "metadata": {},
   "outputs": [],
   "source": [
    "sliding_window(img,(40,40),20)"
   ]
  }
 ],
 "metadata": {
  "kernelspec": {
   "display_name": "Python 3",
   "language": "python",
   "name": "python3"
  },
  "language_info": {
   "codemirror_mode": {
    "name": "ipython",
    "version": 3
   },
   "file_extension": ".py",
   "mimetype": "text/x-python",
   "name": "python",
   "nbconvert_exporter": "python",
   "pygments_lexer": "ipython3",
   "version": "3.8.2"
  }
 },
 "nbformat": 4,
 "nbformat_minor": 4
}
