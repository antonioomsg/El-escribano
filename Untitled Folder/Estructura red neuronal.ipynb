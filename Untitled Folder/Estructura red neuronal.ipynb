{
 "cells": [
  {
   "cell_type": "code",
   "execution_count": 24,
   "metadata": {},
   "outputs": [],
   "source": [
    "from __future__ import print_function\n",
    "import keras\n",
    "from keras.datasets import mnist\n",
    "from keras.models import Sequential\n",
    "from keras.layers import Dense, Dropout, Flatten\n",
    "from keras.layers import Conv2D, MaxPooling2D\n",
    "from keras import backend as K\n",
    "import pandas as pd\n",
    "import numpy as np\n",
    "import os"
   ]
  },
  {
   "cell_type": "code",
   "execution_count": 11,
   "metadata": {},
   "outputs": [
    {
     "name": "stdout",
     "output_type": "stream",
     "text": [
      "count    4096.000000\n",
      "mean       58.609619\n",
      "std        63.548593\n",
      "min         4.000000\n",
      "25%        10.000000\n",
      "50%        47.000000\n",
      "75%        77.000000\n",
      "max       248.000000\n",
      "Name: 0, dtype: float64\n",
      "Cats:80 Dogs:80\n",
      "Shapes X=(160, 64, 64) y=(160,)\n"
     ]
    }
   ],
   "source": [
    "# input image dimensions\n",
    "img_rows, img_cols = 64, 64\n",
    "\n",
    "df_cat = pd.read_csv('../../../Ironhack/neural-nets/data/cat.csv',header=None).apply(pd.to_numeric)\n",
    "df_dog = pd.read_csv('../../../Ironhack/neural-nets/data/dog.csv',header=None).apply(pd.to_numeric)\n",
    "print(df_cat[0].describe())\n",
    "\n",
    "num_cats = df_cat.values.shape[1]\n",
    "num_dogs = df_dog.values.shape[1]\n",
    "print(\"Cats:{} Dogs:{}\".format(num_cats, num_dogs))\n",
    "\n",
    "cats = df_cat.values.reshape((img_rows, img_cols, num_cats))\n",
    "dogs = df_dog.values.reshape((img_rows, img_cols, num_dogs))\n",
    "X = np.concatenate((cats,dogs), axis=2).swapaxes(2,0)\n",
    "y = np.concatenate((np.zeros(num_cats),np.ones(num_dogs)))\n",
    "print(\"Shapes X={} y={}\".format(X.shape,y.shape))"
   ]
  },
  {
   "cell_type": "code",
   "execution_count": 33,
   "metadata": {},
   "outputs": [
    {
     "data": {
      "text/plain": [
       "0       64\n",
       "1       64\n",
       "2       64\n",
       "3       64\n",
       "4       64\n",
       "        ..\n",
       "4091    77\n",
       "4092    77\n",
       "4093    64\n",
       "4094    64\n",
       "4095    61\n",
       "Name: 0, Length: 4096, dtype: int64"
      ]
     },
     "execution_count": 33,
     "metadata": {},
     "output_type": "execute_result"
    }
   ],
   "source": [
    "df_cat[0]"
   ]
  },
  {
   "cell_type": "code",
   "execution_count": 12,
   "metadata": {},
   "outputs": [],
   "source": [
    "from sklearn.model_selection import train_test_split\n",
    "X_train, X_test, y_train, y_test = train_test_split(X, y, test_size=0.2)"
   ]
  },
  {
   "cell_type": "code",
   "execution_count": 13,
   "metadata": {},
   "outputs": [],
   "source": [
    "# Prepare data to feed the NN\n",
    "num_classes = 2"
   ]
  },
  {
   "cell_type": "code",
   "execution_count": 14,
   "metadata": {},
   "outputs": [
    {
     "name": "stdout",
     "output_type": "stream",
     "text": [
      "x_train shape: (128, 64, 64, 1)\n",
      "128 train samples\n",
      "32 test samples\n"
     ]
    }
   ],
   "source": [
    "# Ask keras which format to use depending on used backend and arrange data as expected\n",
    "if K.image_data_format() == 'channels_first':\n",
    "    X_train = x_train.reshape(X_train.shape[0], 1, img_rows, img_cols)\n",
    "    X_test = x_test.reshape(X_test.shape[0], 1, img_rows, img_cols)\n",
    "    input_shape = (1, img_rows, img_cols)\n",
    "else:\n",
    "    X_train = X_train.reshape(X_train.shape[0], img_rows, img_cols, 1)\n",
    "    X_test = X_test.reshape(X_test.shape[0], img_rows, img_cols, 1)\n",
    "    input_shape = (img_rows, img_cols, 1)\n",
    "\n",
    "# Incoming data is in uint8. Cast the input data images to be floats in range [0.0-1.0]  \n",
    "X_train = X_train.astype('float32') / 255\n",
    "X_test = X_test.astype('float32') / 255\n",
    "\n",
    "print('x_train shape:', X_train.shape)\n",
    "print(X_train.shape[0], 'train samples')\n",
    "print(X_test.shape[0], 'test samples')\n",
    "\n",
    "# convert class vectors to binary class matrices\n",
    "y_train = keras.utils.to_categorical(y_train, num_classes)\n",
    "y_test = keras.utils.to_categorical(y_test, num_classes)"
   ]
  },
  {
   "cell_type": "code",
   "execution_count": 15,
   "metadata": {},
   "outputs": [],
   "source": [
    "## This is the neural network proposed architecture\n",
    "model = Sequential()\n",
    "model.add(Conv2D(32, kernel_size=(3, 3),\n",
    "                 activation='relu',\n",
    "                 input_shape=input_shape))\n",
    "model.add(Conv2D(64, (3, 3), activation='relu'))\n",
    "model.add(MaxPooling2D(pool_size=(2, 2)))\n",
    "model.add(Dropout(0.25))\n",
    "model.add(Flatten())\n",
    "model.add(Dense(128, activation='relu'))\n",
    "model.add(Dropout(0.5))\n",
    "model.add(Dense(num_classes, activation='softmax'))\n",
    "\n",
    "model.compile(loss=keras.losses.categorical_crossentropy,\n",
    "              optimizer=keras.optimizers.Adadelta(),\n",
    "              metrics=['accuracy'])"
   ]
  },
  {
   "cell_type": "code",
   "execution_count": 16,
   "metadata": {},
   "outputs": [
    {
     "name": "stdout",
     "output_type": "stream",
     "text": [
      "Epoch 1/10\n",
      "7/7 [==============================] - 3s 395ms/step - loss: 0.6984 - accuracy: 0.5312 - val_loss: 0.7389 - val_accuracy: 0.3750\n",
      "Epoch 2/10\n",
      "7/7 [==============================] - 2s 332ms/step - loss: 0.7006 - accuracy: 0.5156 - val_loss: 0.7342 - val_accuracy: 0.3750\n",
      "Epoch 3/10\n",
      "7/7 [==============================] - 3s 391ms/step - loss: 0.6989 - accuracy: 0.5234 - val_loss: 0.7302 - val_accuracy: 0.3750\n",
      "Epoch 4/10\n",
      "7/7 [==============================] - 3s 370ms/step - loss: 0.7013 - accuracy: 0.5156 - val_loss: 0.7268 - val_accuracy: 0.3750\n",
      "Epoch 5/10\n",
      "7/7 [==============================] - 2s 311ms/step - loss: 0.6995 - accuracy: 0.5391 - val_loss: 0.7207 - val_accuracy: 0.3750\n",
      "Epoch 6/10\n",
      "7/7 [==============================] - 3s 406ms/step - loss: 0.6826 - accuracy: 0.5312 - val_loss: 0.7200 - val_accuracy: 0.3750\n",
      "Epoch 7/10\n",
      "7/7 [==============================] - 2s 308ms/step - loss: 0.6767 - accuracy: 0.5938 - val_loss: 0.7201 - val_accuracy: 0.3750\n",
      "Epoch 8/10\n",
      "7/7 [==============================] - 2s 334ms/step - loss: 0.6853 - accuracy: 0.4922 - val_loss: 0.7171 - val_accuracy: 0.3750\n",
      "Epoch 9/10\n",
      "7/7 [==============================] - 2s 352ms/step - loss: 0.6937 - accuracy: 0.5469 - val_loss: 0.7122 - val_accuracy: 0.3750\n",
      "Epoch 10/10\n",
      "7/7 [==============================] - 2s 338ms/step - loss: 0.6834 - accuracy: 0.5469 - val_loss: 0.7085 - val_accuracy: 0.3750\n"
     ]
    },
    {
     "data": {
      "text/plain": [
       "<tensorflow.python.keras.callbacks.History at 0x7f98acc8f580>"
      ]
     },
     "execution_count": 16,
     "metadata": {},
     "output_type": "execute_result"
    }
   ],
   "source": [
    "# Fit the NN\n",
    "batch_size = 20\n",
    "epochs = 10\n",
    "\n",
    "model.fit(X_train, y_train,\n",
    "          batch_size=batch_size,\n",
    "          epochs=epochs,\n",
    "          verbose=1,\n",
    "          validation_data=(X_test, y_test))"
   ]
  },
  {
   "cell_type": "code",
   "execution_count": 17,
   "metadata": {},
   "outputs": [
    {
     "name": "stdout",
     "output_type": "stream",
     "text": [
      "Test loss: 0.7084740996360779\n",
      "Test accuracy: 0.375\n"
     ]
    }
   ],
   "source": [
    "# Evaluate the model with test data\n",
    "score = model.evaluate(X_test, y_test, verbose=0)\n",
    "print('Test loss:', score[0])\n",
    "print('Test accuracy:', score[1])"
   ]
  },
  {
   "cell_type": "code",
   "execution_count": 18,
   "metadata": {},
   "outputs": [
    {
     "name": "stdout",
     "output_type": "stream",
     "text": [
      "Probs -> Cat:0.44836 Dog:0.55164\n"
     ]
    },
    {
     "data": {
      "text/plain": [
       "<matplotlib.image.AxesImage at 0x7f989a4460d0>"
      ]
     },
     "execution_count": 18,
     "metadata": {},
     "output_type": "execute_result"
    },
    {
     "data": {
      "image/png": "[encoded data removed]",
      "text/plain": [
       "<Figure size 432x288 with 1 Axes>"
      ]
     },
     "metadata": {
      "needs_background": "light"
     },
     "output_type": "display_data"
    }
   ],
   "source": [
    "%matplotlib inline\n",
    "import matplotlib.pyplot as plt\n",
    "from PIL import Image\n",
    "\n",
    "img = X_test[30]\n",
    "pred = model.predict(np.expand_dims(img,axis=0))[0]\n",
    "print(\"Probs -> Cat:{0:.5f} Dog:{1:.5f}\".format(pred[0],pred[1]))\n",
    "plt.imshow(Image.fromarray(img.squeeze()*255),'gray')"
   ]
  },
  {
   "cell_type": "code",
   "execution_count": 21,
   "metadata": {},
   "outputs": [
    {
     "name": "stdout",
     "output_type": "stream",
     "text": [
      "(1, 64, 64, 1)\n",
      "Probs -> Cat:0.45698 Dog:0.54302\n"
     ]
    },
    {
     "data": {
      "image/png": "[encoded data removed]",
      "text/plain": [
       "<Figure size 432x288 with 1 Axes>"
      ]
     },
     "metadata": {
      "needs_background": "light"
     },
     "output_type": "display_data"
    }
   ],
   "source": [
    "import matplotlib.pyplot as plt\n",
    "\n",
    "df = pd.read_csv(\"../../../Ironhack/neural-nets/data/popino.csv\",header=None).apply(pd.to_numeric)\n",
    "img2 = df.values.reshape((64,64,1)).astype('float32') / 255\n",
    "plt.imshow(Image.fromarray(img2.squeeze()*255),'gray')\n",
    "print(np.expand_dims(img2,axis=0).shape)\n",
    "pred2 = model.predict(np.expand_dims(img2,axis=0))[0]\n",
    "print(\"Probs -> Cat:{0:.5f} Dog:{1:.5f}\".format(pred2[0],pred2[1]))"
   ]
  },
  {
   "cell_type": "markdown",
   "metadata": {},
   "source": [
    "# Probamos a lo bruto con nuestras naranjas\n"
   ]
  },
  {
   "cell_type": "code",
   "execution_count": 27,
   "metadata": {},
   "outputs": [],
   "source": [
    "oranges = os.listdir(\"../imputs/oranges_dataset/oranges_pictures\")\n",
    "not_oranges = os.listdir(\"../imputs/oranges_dataset/random_pictures\")"
   ]
  },
  {
   "cell_type": "code",
   "execution_count": 31,
   "metadata": {},
   "outputs": [
    {
     "name": "stdout",
     "output_type": "stream",
     "text": [
      "We have in total 521 images of oranges\n",
      "We have in total 418 images of random pictures\n"
     ]
    }
   ],
   "source": [
    "print(\"We have in total\",len(oranges) ,\"images of oranges\")\n",
    "print(\"We have in total\",len(not_oranges) ,\"images of random pictures\")"
   ]
  },
  {
   "cell_type": "code",
   "execution_count": null,
   "metadata": {},
   "outputs": [],
   "source": []
  }
 ],
 "metadata": {
  "kernelspec": {
   "display_name": "Python 3",
   "language": "python",
   "name": "python3"
  },
  "language_info": {
   "codemirror_mode": {
    "name": "ipython",
    "version": 3
   },
   "file_extension": ".py",
   "mimetype": "text/x-python",
   "name": "python",
   "nbconvert_exporter": "python",
   "pygments_lexer": "ipython3",
   "version": "3.8.2"
  }
 },
 "nbformat": 4,
 "nbformat_minor": 4
}
