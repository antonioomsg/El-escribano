{
 "cells": [
  {
   "cell_type": "markdown",
   "metadata": {},
   "source": [
    "# Pruebas con pillow"
   ]
  },
  {
   "cell_type": "code",
   "execution_count": 93,
   "metadata": {},
   "outputs": [],
   "source": [
    "from PIL import Image\n",
    "import glob, os\n",
    "from os import listdir\n",
    "from os.path import isfile, join\n",
    "import numpy as np\n",
    "import cv2\n",
    "from pandas import DataFrame\n",
    "import pandas as pd\n",
    "from matplotlib import pyplot as plt"
   ]
  },
  {
   "cell_type": "code",
   "execution_count": null,
   "metadata": {},
   "outputs": [],
   "source": [
    "im = Image.open(\"../imputs/oranges_dataset/oranges_pictures/Orange1.png\")"
   ]
  },
  {
   "cell_type": "code",
   "execution_count": null,
   "metadata": {
    "scrolled": true
   },
   "outputs": [],
   "source": [
    "im"
   ]
  },
  {
   "cell_type": "code",
   "execution_count": null,
   "metadata": {
    "scrolled": true
   },
   "outputs": [],
   "source": [
    "im.rotate(45)"
   ]
  },
  {
   "cell_type": "code",
   "execution_count": null,
   "metadata": {},
   "outputs": [],
   "source": [
    "size = 64, 64"
   ]
  },
  {
   "cell_type": "code",
   "execution_count": null,
   "metadata": {},
   "outputs": [],
   "source": [
    "im.thumbnail(size)\n"
   ]
  },
  {
   "cell_type": "code",
   "execution_count": null,
   "metadata": {},
   "outputs": [],
   "source": [
    "im"
   ]
  },
  {
   "cell_type": "code",
   "execution_count": null,
   "metadata": {},
   "outputs": [],
   "source": [
    "im.size"
   ]
  },
  {
   "cell_type": "code",
   "execution_count": null,
   "metadata": {},
   "outputs": [],
   "source": [
    "im= im.resize(size)"
   ]
  },
  {
   "cell_type": "code",
   "execution_count": null,
   "metadata": {},
   "outputs": [],
   "source": [
    "im.size"
   ]
  },
  {
   "cell_type": "code",
   "execution_count": null,
   "metadata": {},
   "outputs": [],
   "source": [
    "im"
   ]
  },
  {
   "cell_type": "code",
   "execution_count": null,
   "metadata": {},
   "outputs": [],
   "source": [
    "im.save(\"../imputs/oranges_dataset/Orange_pictures_64x64/Orange1.png\")"
   ]
  },
  {
   "cell_type": "code",
   "execution_count": null,
   "metadata": {
    "scrolled": false
   },
   "outputs": [],
   "source": [
    "mypath=\"../imputs/oranges_dataset/Orange_pictures_64x64\"\n",
    "size = 64, 64\n",
    "for i in range(18,25):\n",
    "    im = Image.open(f\"../imputs/oranges_dataset/oranges_pictures/Orange{i}.png\")\n",
    "    im = im.resize(size)\n",
    "    onlyfiles = [f for f in listdir(mypath) if isfile(join(mypath, f))]\n",
    "    if f\"Orange{i}.png\" not in onlyfiles:\n",
    "        im.save(f\"../imputs/oranges_dataset/Orange_pictures_64x64/Orange{i}.png\")\n",
    "    else:\n",
    "        print(\"file already exists, continuing to next one\")"
   ]
  },
  {
   "cell_type": "markdown",
   "metadata": {},
   "source": [
    "Finalmente realizamos una funcion. "
   ]
  },
  {
   "cell_type": "code",
   "execution_count": null,
   "metadata": {},
   "outputs": [],
   "source": [
    "def resize_image(input_relative_path,image,size,output_relative_path):\n",
    "    im = Image.open(f\"{input_relative_path}{image}\")\n",
    "    im = im.resize(size)\n",
    "    mypath=output_relative_path\n",
    "    onlyfiles = [f for f in listdir(mypath) if isfile(join(mypath, f))]\n",
    "    if image not in onlyfiles:\n",
    "        im.save(f\"{output_relative_path}{image}\")\n",
    "    else:\n",
    "        print(\"file already exists, continuing to next one\")   "
   ]
  },
  {
   "cell_type": "code",
   "execution_count": null,
   "metadata": {},
   "outputs": [],
   "source": [
    "resize_image(\"../imputs/oranges_dataset/oranges_pictures/\",\"Orange26.png\",(64,64),\"../imputs/oranges_dataset/Orange_pictures_64x64/\")"
   ]
  },
  {
   "cell_type": "code",
   "execution_count": null,
   "metadata": {},
   "outputs": [],
   "source": [
    "format = im.format\n",
    "mode = im.mode"
   ]
  },
  {
   "cell_type": "code",
   "execution_count": null,
   "metadata": {},
   "outputs": [],
   "source": [
    "format"
   ]
  },
  {
   "cell_type": "code",
   "execution_count": null,
   "metadata": {},
   "outputs": [],
   "source": [
    "mode"
   ]
  },
  {
   "cell_type": "code",
   "execution_count": null,
   "metadata": {},
   "outputs": [],
   "source": [
    "im_np= np.asarray(im)\n",
    "one_line=im_np.ravel()"
   ]
  },
  {
   "cell_type": "code",
   "execution_count": null,
   "metadata": {},
   "outputs": [],
   "source": [
    "type(one_line)"
   ]
  },
  {
   "cell_type": "code",
   "execution_count": null,
   "metadata": {},
   "outputs": [],
   "source": [
    "df=pd.DataFrame(one_line, columns=['t'])"
   ]
  },
  {
   "cell_type": "code",
   "execution_count": null,
   "metadata": {
    "scrolled": false
   },
   "outputs": [],
   "source": [
    "df"
   ]
  },
  {
   "cell_type": "markdown",
   "metadata": {},
   "source": [
    "# Nos damos cuenta que hay imagenes RGBA, las pasamos a RGB."
   ]
  },
  {
   "cell_type": "code",
   "execution_count": null,
   "metadata": {},
   "outputs": [],
   "source": [
    "rgba_image = Image.open(\"../imputs/oranges_dataset/oranges_pictures/Orange1.png\")"
   ]
  },
  {
   "cell_type": "code",
   "execution_count": null,
   "metadata": {},
   "outputs": [],
   "source": [
    "rgba_image.load()"
   ]
  },
  {
   "cell_type": "code",
   "execution_count": null,
   "metadata": {},
   "outputs": [],
   "source": [
    "rgba_image.mode"
   ]
  },
  {
   "cell_type": "code",
   "execution_count": null,
   "metadata": {},
   "outputs": [],
   "source": [
    "background = Image.new(\"RGB\", rgba_image.size, (255, 255, 255))"
   ]
  },
  {
   "cell_type": "code",
   "execution_count": null,
   "metadata": {},
   "outputs": [],
   "source": [
    "rgba_image.mode"
   ]
  },
  {
   "cell_type": "code",
   "execution_count": null,
   "metadata": {},
   "outputs": [],
   "source": [
    "background.paste(rgba_image, mask = rgba_image.split()[3])"
   ]
  },
  {
   "cell_type": "code",
   "execution_count": null,
   "metadata": {},
   "outputs": [],
   "source": [
    "background.save(\"sample_2.jpg\", \"JPEG\", quality=100)"
   ]
  },
  {
   "cell_type": "code",
   "execution_count": null,
   "metadata": {},
   "outputs": [],
   "source": [
    "rgb_image.mode"
   ]
  },
  {
   "cell_type": "code",
   "execution_count": null,
   "metadata": {},
   "outputs": [],
   "source": [
    "rgb_image = Image.open(\"sample_2.jpg\")"
   ]
  },
  {
   "cell_type": "code",
   "execution_count": null,
   "metadata": {},
   "outputs": [],
   "source": [
    "rgb_image.mode"
   ]
  },
  {
   "cell_type": "markdown",
   "metadata": {},
   "source": [
    "Realizamos una funcion para cambiar las imagenes que sean RGBA por RGB"
   ]
  },
  {
   "cell_type": "code",
   "execution_count": null,
   "metadata": {},
   "outputs": [],
   "source": [
    "rgb_image = Image.open(\"../imputs/oranges_dataset/oranges_pictures/Orange200.png\")"
   ]
  },
  {
   "cell_type": "code",
   "execution_count": null,
   "metadata": {
    "scrolled": true
   },
   "outputs": [],
   "source": [
    "rgb_image"
   ]
  },
  {
   "cell_type": "code",
   "execution_count": null,
   "metadata": {},
   "outputs": [],
   "source": [
    "imagen=RGBA_a_RGB(rgb_image)"
   ]
  },
  {
   "cell_type": "code",
   "execution_count": null,
   "metadata": {},
   "outputs": [],
   "source": [
    "imagen.mode"
   ]
  },
  {
   "cell_type": "code",
   "execution_count": 32,
   "metadata": {},
   "outputs": [],
   "source": [
    "def RGBA_a_RGB(image1):\n",
    "    if image1.mode == \"RGBA\":\n",
    "        background = Image.new(\"RGB\", image1.size, (255, 255, 255))\n",
    "        background.paste(image1, mask = image1.split()[3])\n",
    "        background.save(f\"{image1}\", \"JPEG\", quality=100)\n",
    "        rgb_image = Image.open(f\"{image1}\")\n",
    "        return rgb_image\n",
    "    return image1"
   ]
  },
  {
   "cell_type": "code",
   "execution_count": 33,
   "metadata": {},
   "outputs": [],
   "source": [
    "def resize_image(imagen,size,output=None):\n",
    "    im = Image.open(imagen)\n",
    "    rgb_image = RGBA_a_RGB(im)\n",
    "    im_rgb = rgb_image.resize(size)\n",
    "    if not output:\n",
    "        return im_rgb \n",
    "    onlyfiles = [f for f in listdir(output) if isfile(join(output, f))]\n",
    "    if image not in onlyfiles:\n",
    "        im.save(output)\n",
    "    else:\n",
    "        print(\"file already exists, continuing to next one\")   "
   ]
  },
  {
   "cell_type": "code",
   "execution_count": null,
   "metadata": {},
   "outputs": [],
   "source": []
  },
  {
   "cell_type": "markdown",
   "metadata": {},
   "source": [
    "# Pasamos las imagenes a un df."
   ]
  },
  {
   "cell_type": "code",
   "execution_count": 34,
   "metadata": {},
   "outputs": [],
   "source": [
    "def image_to_array(image):\n",
    "    im_np= np.asarray(image)\n",
    "    one_line=im_np.ravel()\n",
    "    return one_line"
   ]
  },
  {
   "cell_type": "code",
   "execution_count": 106,
   "metadata": {},
   "outputs": [],
   "source": [
    "paths={1:\"../imputs/oranges_dataset/oranges_pictures/\",\n",
    "      0:\"../imputs/oranges_dataset/random_pictures/\"}\n",
    "images={}\n",
    "for clas,path in paths.items():\n",
    "    images[clas]=[]\n",
    "    for im in listdir(path):\n",
    "        if im.endswith(\"jpg\") or im.endswith(\"png\"):\n",
    "            a=resize_image(path+im,(64,64))\n",
    "            images[clas].append(np.asarray(a))\n",
    "    images[clas]=np.array(images[clas])"
   ]
  },
  {
   "cell_type": "code",
   "execution_count": 81,
   "metadata": {},
   "outputs": [],
   "source": [
    "X= np.concatenate(list(images.values()),axis=0)"
   ]
  },
  {
   "cell_type": "code",
   "execution_count": 113,
   "metadata": {},
   "outputs": [
    {
     "data": {
      "text/plain": [
       "{1: array([[[[234, 139,  87],\n",
       "          [246, 153,  89],\n",
       "          [251, 158,  84],\n",
       "          ...,\n",
       "          [247, 121,  81],\n",
       "          [247, 121,  81],\n",
       "          [246, 120,  80]],\n",
       " \n",
       "         [[241, 141,  73],\n",
       "          [251, 165,  85],\n",
       "          [246, 174,  84],\n",
       "          ...,\n",
       "          [246, 120,  80],\n",
       "          [246, 120,  80],\n",
       "          [246, 120,  80]],\n",
       " \n",
       "         [[244, 146,  77],\n",
       "          [252, 168,  89],\n",
       "          [250, 177,  89],\n",
       "          ...,\n",
       "          [245, 119,  79],\n",
       "          [245, 119,  79],\n",
       "          [246, 120,  80]],\n",
       " \n",
       "         ...,\n",
       " \n",
       "         [[246, 102,  60],\n",
       "          [248, 100,  59],\n",
       "          [248,  99,  59],\n",
       "          ...,\n",
       "          [239, 106,  71],\n",
       "          [239, 106,  71],\n",
       "          [240, 107,  71]],\n",
       " \n",
       "         [[248, 105,  61],\n",
       "          [247, 104,  60],\n",
       "          [246, 103,  59],\n",
       "          ...,\n",
       "          [236, 103,  71],\n",
       "          [237, 105,  73],\n",
       "          [239, 106,  75]],\n",
       " \n",
       "         [[247, 107,  61],\n",
       "          [248, 107,  62],\n",
       "          [249, 107,  62],\n",
       "          ...,\n",
       "          [237, 104,  72],\n",
       "          [238, 105,  73],\n",
       "          [241, 108,  75]]],\n",
       " \n",
       " \n",
       "        [[[228, 141,  35],\n",
       "          [229, 142,  36],\n",
       "          [229, 142,  36],\n",
       "          ...,\n",
       "          [229, 144,  36],\n",
       "          [229, 144,  36],\n",
       "          [229, 144,  37]],\n",
       " \n",
       "         [[227, 140,  34],\n",
       "          [229, 142,  36],\n",
       "          [229, 142,  36],\n",
       "          ...,\n",
       "          [228, 144,  36],\n",
       "          [228, 144,  37],\n",
       "          [229, 144,  37]],\n",
       " \n",
       "         [[226, 141,  34],\n",
       "          [228, 141,  35],\n",
       "          [228, 141,  35],\n",
       "          ...,\n",
       "          [227, 143,  36],\n",
       "          [228, 144,  37],\n",
       "          [229, 144,  37]],\n",
       " \n",
       "         ...,\n",
       " \n",
       "         [[208, 104,  30],\n",
       "          [210, 104,  35],\n",
       "          [212, 104,  36],\n",
       "          ...,\n",
       "          [230, 136,  35],\n",
       "          [230, 134,  34],\n",
       "          [228, 131,  34]],\n",
       " \n",
       "         [[228, 133,  35],\n",
       "          [226, 127,  37],\n",
       "          [226, 125,  37],\n",
       "          ...,\n",
       "          [231, 139,  36],\n",
       "          [231, 136,  36],\n",
       "          [230, 134,  34]],\n",
       " \n",
       "         [[235, 147,  38],\n",
       "          [235, 143,  38],\n",
       "          [234, 141,  38],\n",
       "          ...,\n",
       "          [231, 143,  37],\n",
       "          [232, 141,  37],\n",
       "          [232, 139,  36]]],\n",
       " \n",
       " \n",
       "        [[[ 62,  80,  30],\n",
       "          [ 62,  76,  29],\n",
       "          [ 72,  79,  36],\n",
       "          ...,\n",
       "          [122, 137, 120],\n",
       "          [121, 135, 121],\n",
       "          [108, 122, 105]],\n",
       " \n",
       "         [[ 59,  79,  28],\n",
       "          [ 60,  74,  26],\n",
       "          [ 64,  72,  29],\n",
       "          ...,\n",
       "          [128, 139, 119],\n",
       "          [109, 121, 106],\n",
       "          [ 87,  99,  82]],\n",
       " \n",
       "         [[ 60,  80,  30],\n",
       "          [ 59,  77,  29],\n",
       "          [ 57,  72,  30],\n",
       "          ...,\n",
       "          [105, 112,  85],\n",
       "          [ 81,  88,  66],\n",
       "          [ 59,  66,  44]],\n",
       " \n",
       "         ...,\n",
       " \n",
       "         [[184, 178, 121],\n",
       "          [139, 137,  81],\n",
       "          [ 96,  99,  47],\n",
       "          ...,\n",
       "          [188,  72,  21],\n",
       "          [189,  78,  23],\n",
       "          [193,  85,  28]],\n",
       " \n",
       "         [[183, 179, 123],\n",
       "          [144, 142,  87],\n",
       "          [103, 107,  55],\n",
       "          ...,\n",
       "          [183,  71,  21],\n",
       "          [182,  76,  23],\n",
       "          [185,  82,  25]],\n",
       " \n",
       "         [[149, 146,  89],\n",
       "          [126, 125,  69],\n",
       "          [100, 103,  51],\n",
       "          ...,\n",
       "          [179,  69,  20],\n",
       "          [179,  76,  22],\n",
       "          [183,  82,  26]]],\n",
       " \n",
       " \n",
       "        ...,\n",
       " \n",
       " \n",
       "        [[[251, 252, 254],\n",
       "          [251, 252, 254],\n",
       "          [251, 252, 254],\n",
       "          ...,\n",
       "          [250, 252, 251],\n",
       "          [250, 251, 254],\n",
       "          [250, 251, 255]],\n",
       " \n",
       "         [[251, 252, 254],\n",
       "          [251, 252, 254],\n",
       "          [251, 252, 254],\n",
       "          ...,\n",
       "          [250, 251, 253],\n",
       "          [250, 251, 254],\n",
       "          [250, 251, 255]],\n",
       " \n",
       "         [[251, 252, 254],\n",
       "          [251, 252, 254],\n",
       "          [251, 252, 254],\n",
       "          ...,\n",
       "          [250, 251, 253],\n",
       "          [250, 251, 253],\n",
       "          [250, 251, 253]],\n",
       " \n",
       "         ...,\n",
       " \n",
       "         [[250, 251, 253],\n",
       "          [250, 251, 253],\n",
       "          [250, 251, 253],\n",
       "          ...,\n",
       "          [251, 252, 254],\n",
       "          [251, 252, 254],\n",
       "          [251, 252, 254]],\n",
       " \n",
       "         [[250, 251, 253],\n",
       "          [250, 251, 253],\n",
       "          [250, 251, 253],\n",
       "          ...,\n",
       "          [251, 252, 254],\n",
       "          [251, 252, 254],\n",
       "          [251, 252, 254]],\n",
       " \n",
       "         [[250, 251, 253],\n",
       "          [250, 251, 253],\n",
       "          [250, 251, 253],\n",
       "          ...,\n",
       "          [251, 252, 254],\n",
       "          [251, 252, 254],\n",
       "          [251, 252, 254]]],\n",
       " \n",
       " \n",
       "        [[[243, 193, 159],\n",
       "          [226, 200, 159],\n",
       "          [218, 206, 165],\n",
       "          ...,\n",
       "          [ 57,  66,  33],\n",
       "          [ 42,  52,  19],\n",
       "          [ 42,  54,  18]],\n",
       " \n",
       "         [[249, 199, 159],\n",
       "          [249, 212, 166],\n",
       "          [247, 219, 172],\n",
       "          ...,\n",
       "          [ 80,  87,  48],\n",
       "          [ 50,  61,  18],\n",
       "          [ 45,  58,  11]],\n",
       " \n",
       "         [[245, 200, 155],\n",
       "          [247, 206, 155],\n",
       "          [251, 212, 160],\n",
       "          ...,\n",
       "          [126, 133,  88],\n",
       "          [ 61,  72,  25],\n",
       "          [ 40,  54,   5]],\n",
       " \n",
       "         ...,\n",
       " \n",
       "         [[ 74, 106,  33],\n",
       "          [110,  86,  37],\n",
       "          [137,  82,  42],\n",
       "          ...,\n",
       "          [198, 189,  79],\n",
       "          [226, 221, 116],\n",
       "          [226, 214, 119]],\n",
       " \n",
       "         [[ 77, 110,  47],\n",
       "          [118,  89,  46],\n",
       "          [143,  79,  44],\n",
       "          ...,\n",
       "          [181, 172,  62],\n",
       "          [209, 202,  96],\n",
       "          [229, 218, 117]],\n",
       " \n",
       "         [[ 88, 121,  55],\n",
       "          [122,  94,  50],\n",
       "          [145,  81,  45],\n",
       "          ...,\n",
       "          [173, 157,  52],\n",
       "          [187, 173,  72],\n",
       "          [199, 182,  87]]],\n",
       " \n",
       " \n",
       "        [[[ 56,  58,  57],\n",
       "          [ 56,  58,  57],\n",
       "          [ 56,  58,  57],\n",
       "          ...,\n",
       "          [ 41,  41,  39],\n",
       "          [ 40,  40,  38],\n",
       "          [ 42,  42,  40]],\n",
       " \n",
       "         [[ 66,  68,  67],\n",
       "          [ 68,  70,  69],\n",
       "          [ 67,  69,  68],\n",
       "          ...,\n",
       "          [ 56,  56,  54],\n",
       "          [ 53,  53,  51],\n",
       "          [ 55,  55,  53]],\n",
       " \n",
       "         [[ 60,  62,  61],\n",
       "          [ 64,  66,  66],\n",
       "          [ 65,  67,  67],\n",
       "          ...,\n",
       "          [ 69,  69,  67],\n",
       "          [ 65,  65,  63],\n",
       "          [ 63,  63,  61]],\n",
       " \n",
       "         ...,\n",
       " \n",
       "         [[ 16,  15,  13],\n",
       "          [ 16,  15,  13],\n",
       "          [ 16,  15,  13],\n",
       "          ...,\n",
       "          [ 44,  43,  41],\n",
       "          [ 35,  34,  32],\n",
       "          [ 38,  37,  34]],\n",
       " \n",
       "         [[ 17,  16,  14],\n",
       "          [ 17,  16,  14],\n",
       "          [ 18,  17,  15],\n",
       "          ...,\n",
       "          [ 31,  30,  28],\n",
       "          [ 26,  25,  23],\n",
       "          [ 33,  32,  30]],\n",
       " \n",
       "         [[ 16,  15,  13],\n",
       "          [ 12,  11,   9],\n",
       "          [ 10,   9,   7],\n",
       "          ...,\n",
       "          [ 40,  39,  37],\n",
       "          [ 42,  41,  39],\n",
       "          [ 52,  51,  49]]]], dtype=uint8),\n",
       " 0: array([[[[255, 255, 255],\n",
       "          [255, 255, 255],\n",
       "          [255, 255, 255],\n",
       "          ...,\n",
       "          [255, 255, 255],\n",
       "          [255, 255, 255],\n",
       "          [255, 255, 255]],\n",
       " \n",
       "         [[255, 255, 255],\n",
       "          [255, 255, 255],\n",
       "          [255, 255, 255],\n",
       "          ...,\n",
       "          [255, 255, 255],\n",
       "          [255, 255, 255],\n",
       "          [255, 255, 255]],\n",
       " \n",
       "         [[255, 255, 255],\n",
       "          [255, 255, 255],\n",
       "          [255, 255, 255],\n",
       "          ...,\n",
       "          [255, 255, 255],\n",
       "          [255, 255, 255],\n",
       "          [255, 255, 255]],\n",
       " \n",
       "         ...,\n",
       " \n",
       "         [[243, 208, 182],\n",
       "          [240, 204, 177],\n",
       "          [239, 200, 172],\n",
       "          ...,\n",
       "          [255, 255, 255],\n",
       "          [255, 255, 255],\n",
       "          [255, 255, 255]],\n",
       " \n",
       "         [[237, 199, 170],\n",
       "          [235, 196, 167],\n",
       "          [235, 197, 168],\n",
       "          ...,\n",
       "          [255, 255, 255],\n",
       "          [255, 255, 255],\n",
       "          [255, 255, 255]],\n",
       " \n",
       "         [[234, 196, 167],\n",
       "          [237, 200, 172],\n",
       "          [241, 205, 178],\n",
       "          ...,\n",
       "          [255, 255, 255],\n",
       "          [255, 255, 255],\n",
       "          [255, 255, 255]]],\n",
       " \n",
       " \n",
       "        [[[ 28,  47,  19],\n",
       "          [ 26,  51,  13],\n",
       "          [ 24,  50,   9],\n",
       "          ...,\n",
       "          [100, 155,  86],\n",
       "          [ 84, 137,  66],\n",
       "          [ 60, 107,  42]],\n",
       " \n",
       "         [[ 32,  55,  28],\n",
       "          [ 25,  51,  14],\n",
       "          [ 21,  48,   7],\n",
       "          ...,\n",
       "          [102, 153,  88],\n",
       "          [ 82, 130,  63],\n",
       "          [ 56,  99,  38]],\n",
       " \n",
       "         [[ 33,  61,  35],\n",
       "          [ 21,  50,  16],\n",
       "          [ 17,  45,   8],\n",
       "          ...,\n",
       "          [100, 147,  88],\n",
       "          [ 76, 119,  58],\n",
       "          [ 50,  90,  34]],\n",
       " \n",
       "         ...,\n",
       " \n",
       "         [[ 46,  56,  68],\n",
       "          [ 62,  66,  73],\n",
       "          [ 70,  71,  76],\n",
       "          ...,\n",
       "          [ 93, 121,  90],\n",
       "          [ 73,  98,  68],\n",
       "          [ 41,  65,  34]],\n",
       " \n",
       "         [[ 32,  33,  53],\n",
       "          [ 41,  40,  51],\n",
       "          [ 42,  41,  45],\n",
       "          ...,\n",
       "          [121, 153, 121],\n",
       "          [ 85, 116,  82],\n",
       "          [ 38,  68,  32]],\n",
       " \n",
       "         [[ 16,  13,  34],\n",
       "          [ 25,  24,  34],\n",
       "          [ 31,  31,  33],\n",
       "          ...,\n",
       "          [140, 174, 140],\n",
       "          [ 95, 128,  91],\n",
       "          [ 39,  71,  32]]],\n",
       " \n",
       " \n",
       "        [[[103, 148,  25],\n",
       "          [109, 150,  28],\n",
       "          [110, 147,  31],\n",
       "          ...,\n",
       "          [ 35,  77,   8],\n",
       "          [ 33,  73,   8],\n",
       "          [ 30,  66,  10]],\n",
       " \n",
       "         [[106, 152,  28],\n",
       "          [111, 153,  28],\n",
       "          [114, 152,  28],\n",
       "          ...,\n",
       "          [ 33,  71,   8],\n",
       "          [ 29,  65,   6],\n",
       "          [ 32,  66,  10]],\n",
       " \n",
       "         [[110, 157,  30],\n",
       "          [119, 160,  30],\n",
       "          [123, 159,  29],\n",
       "          ...,\n",
       "          [ 30,  66,   8],\n",
       "          [ 25,  60,   4],\n",
       "          [ 26,  61,   5]],\n",
       " \n",
       "         ...,\n",
       " \n",
       "         [[103, 110,  39],\n",
       "          [ 63,  94,  22],\n",
       "          [ 46,  87,  30],\n",
       "          ...,\n",
       "          [ 41,  88,  16],\n",
       "          [ 47,  94,  20],\n",
       "          [ 48,  95,  21]],\n",
       " \n",
       "         [[ 83, 109,  31],\n",
       "          [ 61, 101,  25],\n",
       "          [ 44,  89,  26],\n",
       "          ...,\n",
       "          [ 36,  86,  13],\n",
       "          [ 37,  84,  14],\n",
       "          [ 35,  81,  11]],\n",
       " \n",
       "         [[ 77, 111,  34],\n",
       "          [ 48,  95,  21],\n",
       "          [ 24,  72,  13],\n",
       "          ...,\n",
       "          [ 47,  97,  22],\n",
       "          [ 41,  91,  19],\n",
       "          [ 35,  84,  15]]],\n",
       " \n",
       " \n",
       "        ...,\n",
       " \n",
       " \n",
       "        [[[ 55,  54,   6],\n",
       "          [ 53,  50,   7],\n",
       "          [ 50,  47,   5],\n",
       "          ...,\n",
       "          [ 65,  59,  12],\n",
       "          [ 70,  63,  17],\n",
       "          [ 69,  63,  13]],\n",
       " \n",
       "         [[ 56,  55,   8],\n",
       "          [ 54,  51,   8],\n",
       "          [ 51,  47,   5],\n",
       "          ...,\n",
       "          [ 64,  61,  12],\n",
       "          [ 64,  61,  13],\n",
       "          [ 63,  60,   9]],\n",
       " \n",
       "         [[ 56,  57,   8],\n",
       "          [ 56,  51,   9],\n",
       "          [ 52,  48,   6],\n",
       "          ...,\n",
       "          [ 60,  69,   9],\n",
       "          [ 57,  62,   6],\n",
       "          [ 57,  60,   5]],\n",
       " \n",
       "         ...,\n",
       " \n",
       "         [[ 68,  69,  10],\n",
       "          [ 60,  61,   7],\n",
       "          [ 57,  56,   6],\n",
       "          ...,\n",
       "          [111, 110,  23],\n",
       "          [170, 166,  42],\n",
       "          [192, 187,  42]],\n",
       " \n",
       "         [[ 99, 104,  20],\n",
       "          [ 79,  80,  21],\n",
       "          [ 68,  66,  13],\n",
       "          ...,\n",
       "          [ 95,  96,  16],\n",
       "          [142, 140,  33],\n",
       "          [167, 164,  38]],\n",
       " \n",
       "         [[145, 147,  30],\n",
       "          [122, 119,  26],\n",
       "          [ 98,  93,  18],\n",
       "          ...,\n",
       "          [ 89,  95,  15],\n",
       "          [105, 110,  24],\n",
       "          [136, 140,  38]]],\n",
       " \n",
       " \n",
       "        [[[100, 109,  29],\n",
       "          [ 72,  98,  31],\n",
       "          [ 81, 110,  36],\n",
       "          ...,\n",
       "          [156, 210, 254],\n",
       "          [155, 209, 253],\n",
       "          [155, 209, 253]],\n",
       " \n",
       "         [[ 83, 101,  18],\n",
       "          [ 78, 105,  21],\n",
       "          [121, 149,  38],\n",
       "          ...,\n",
       "          [156, 210, 254],\n",
       "          [156, 209, 254],\n",
       "          [157, 211, 253]],\n",
       " \n",
       "         [[ 77, 106,  20],\n",
       "          [ 85, 117,  25],\n",
       "          [140, 168,  50],\n",
       "          ...,\n",
       "          [155, 210, 253],\n",
       "          [155, 210, 252],\n",
       "          [156, 212, 253]],\n",
       " \n",
       "         ...,\n",
       " \n",
       "         [[121, 136,  48],\n",
       "          [136, 152,  57],\n",
       "          [168, 183,  85],\n",
       "          ...,\n",
       "          [ 94, 113,  37],\n",
       "          [ 74,  93,  27],\n",
       "          [ 62,  84,  20]],\n",
       " \n",
       "         [[233, 241, 142],\n",
       "          [229, 240, 138],\n",
       "          [222, 234, 129],\n",
       "          ...,\n",
       "          [110, 136,  26],\n",
       "          [114, 140,  33],\n",
       "          [114, 136,  39]],\n",
       " \n",
       "         [[231, 240, 148],\n",
       "          [218, 230, 133],\n",
       "          [209, 221, 117],\n",
       "          ...,\n",
       "          [110, 138,  27],\n",
       "          [111, 138,  23],\n",
       "          [108, 135,  19]]],\n",
       " \n",
       " \n",
       "        [[[ 94,  90,  40],\n",
       "          [ 75,  82,  32],\n",
       "          [ 97,  66,  29],\n",
       "          ...,\n",
       "          [139, 110,  30],\n",
       "          [148, 118,  35],\n",
       "          [149, 118,  35]],\n",
       " \n",
       "         [[ 63,  69,  27],\n",
       "          [ 44,  64,  23],\n",
       "          [ 65,  43,  17],\n",
       "          ...,\n",
       "          [141, 108,  30],\n",
       "          [145, 113,  31],\n",
       "          [142, 110,  26]],\n",
       " \n",
       "         [[ 54,  55,  19],\n",
       "          [ 51,  57,  19],\n",
       "          [ 68,  55,  22],\n",
       "          ...,\n",
       "          [141, 108,  35],\n",
       "          [149, 116,  32],\n",
       "          [138, 107,  23]],\n",
       " \n",
       "         ...,\n",
       " \n",
       "         [[ 58,  58,  28],\n",
       "          [ 44,  44,  16],\n",
       "          [ 20,  21,   1],\n",
       "          ...,\n",
       "          [ 20,  20,   1],\n",
       "          [ 35,  35,   9],\n",
       "          [ 48,  49,  19]],\n",
       " \n",
       "         [[ 56,  56,  25],\n",
       "          [ 45,  46,  18],\n",
       "          [ 17,  17,   2],\n",
       "          ...,\n",
       "          [ 19,  21,   2],\n",
       "          [ 31,  34,   9],\n",
       "          [ 38,  41,  12]],\n",
       " \n",
       "         [[ 40,  40,  11],\n",
       "          [ 60,  61,  30],\n",
       "          [ 25,  24,   9],\n",
       "          ...,\n",
       "          [ 16,  19,   1],\n",
       "          [ 22,  25,   2],\n",
       "          [ 26,  29,   3]]]], dtype=uint8)}"
      ]
     },
     "execution_count": 113,
     "metadata": {},
     "output_type": "execute_result"
    }
   ],
   "source": [
    "images"
   ]
  },
  {
   "cell_type": "code",
   "execution_count": 84,
   "metadata": {
    "scrolled": true
   },
   "outputs": [
    {
     "data": {
      "text/plain": [
       "(938, 64, 64, 3)"
      ]
     },
     "execution_count": 84,
     "metadata": {},
     "output_type": "execute_result"
    }
   ],
   "source": [
    "X.shape"
   ]
  },
  {
   "cell_type": "code",
   "execution_count": 115,
   "metadata": {},
   "outputs": [
    {
     "name": "stdout",
     "output_type": "stream",
     "text": [
      "(520, 64, 64, 3)\n",
      "(418, 64, 64, 3)\n"
     ]
    }
   ],
   "source": [
    "for k,v in images.items():\n",
    "    print(v.shape)"
   ]
  },
  {
   "cell_type": "code",
   "execution_count": 86,
   "metadata": {},
   "outputs": [],
   "source": [
    "y = np.concatenate([[k]* v.shape[0] for k,v in images.items()])"
   ]
  },
  {
   "cell_type": "code",
   "execution_count": 92,
   "metadata": {
    "scrolled": true
   },
   "outputs": [
    {
     "data": {
      "text/plain": [
       "(938,)"
      ]
     },
     "execution_count": 92,
     "metadata": {},
     "output_type": "execute_result"
    }
   ],
   "source": [
    "y.shape"
   ]
  },
  {
   "cell_type": "code",
   "execution_count": 135,
   "metadata": {},
   "outputs": [
    {
     "data": {
      "text/plain": [
       "<matplotlib.image.AxesImage at 0x7fb8456e2100>"
      ]
     },
     "execution_count": 135,
     "metadata": {},
     "output_type": "execute_result"
    },
    {
     "data": {
      "image/png": "[encoded data removed]",
      "text/plain": [
       "<Figure size 432x288 with 1 Axes>"
      ]
     },
     "metadata": {
      "needs_background": "light"
     },
     "output_type": "display_data"
    }
   ],
   "source": [
    "plt.imshow(X[525])"
   ]
  },
  {
   "cell_type": "code",
   "execution_count": null,
   "metadata": {},
   "outputs": [],
   "source": []
  }
 ],
 "metadata": {
  "kernelspec": {
   "display_name": "Python 3",
   "language": "python",
   "name": "python3"
  },
  "language_info": {
   "codemirror_mode": {
    "name": "ipython",
    "version": 3
   },
   "file_extension": ".py",
   "mimetype": "text/x-python",
   "name": "python",
   "nbconvert_exporter": "python",
   "pygments_lexer": "ipython3",
   "version": "3.8.2"
  }
 },
 "nbformat": 4,
 "nbformat_minor": 4
}
